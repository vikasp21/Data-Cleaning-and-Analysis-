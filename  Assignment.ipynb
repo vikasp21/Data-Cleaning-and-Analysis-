{
 "cells": [
  {
   "cell_type": "code",
   "execution_count": 1,
   "id": "8dd6ef76",
   "metadata": {},
   "outputs": [],
   "source": [
    "import pandas as pd "
   ]
  },
  {
   "cell_type": "code",
   "execution_count": 2,
   "id": "2b105d4d",
   "metadata": {},
   "outputs": [
    {
     "name": "stdout",
     "output_type": "stream",
     "text": [
      "   Package ID  Weight (kg)  Distance (km) Delivery Type  Total Cost\n",
      "0           1            3             10       Express        26.0\n",
      "1           2            5             25      Standard        25.0\n",
      "2           3            2              5       Express        19.0\n",
      "3           4            6             15      Standard        21.5\n",
      "4           5            4             30       Express        48.0\n"
     ]
    }
   ],
   "source": [
    "import pandas as pd\n",
    "\n",
    "# Sample data\n",
    "data = {\n",
    "    'Package ID': [1, 2, 3, 4, 5],\n",
    "    'Weight (kg)': [3, 5, 2, 6, 4],\n",
    "    'Distance (km)': [10, 25, 5, 15, 30],\n",
    "    'Delivery Type': ['Express', 'Standard', 'Express', 'Standard', 'Express']\n",
    "}\n",
    "\n",
    "# Cost grid\n",
    "cost_grid = {\n",
    "    'Express': {\n",
    "        'Base Cost': 10,\n",
    "        'Cost per kg': 2,\n",
    "        'Cost per km': 1,\n",
    "    },\n",
    "    'Standard': {\n",
    "        'Base Cost': 5,\n",
    "        'Cost per kg': 1.5,\n",
    "        'Cost per km': 0.5,\n",
    "    }\n",
    "}\n",
    "\n",
    "# Create a DataFrame\n",
    "df = pd.DataFrame(data)\n",
    "\n",
    "# Function to calculate cost for a single row\n",
    "def calculate_cost(row):\n",
    "    delivery_type = row['Delivery Type']\n",
    "    base_cost = cost_grid[delivery_type]['Base Cost']\n",
    "    cost_per_kg = cost_grid[delivery_type]['Cost per kg']\n",
    "    cost_per_km = cost_grid[delivery_type]['Cost per km']\n",
    "    weight = row['Weight (kg)']\n",
    "    distance = row['Distance (km)']\n",
    "    total_cost = base_cost + (cost_per_kg * weight) + (cost_per_km * distance)\n",
    "    return total_cost\n",
    "\n",
    "# Apply the calculate_cost function to each row\n",
    "df['Total Cost'] = df.apply(calculate_cost, axis=1)\n",
    "\n",
    "# Save the DataFrame to a CSV file\n",
    "df.to_csv('delivery_costs.csv', index=False)\n",
    "\n",
    "# Print the DataFrame with the calculated costs\n",
    "print(df)\n"
   ]
  },
  {
   "cell_type": "code",
   "execution_count": null,
   "id": "48379869",
   "metadata": {},
   "outputs": [],
   "source": []
  }
 ],
 "metadata": {
  "kernelspec": {
   "display_name": "Python 3 (ipykernel)",
   "language": "python",
   "name": "python3"
  },
  "language_info": {
   "codemirror_mode": {
    "name": "ipython",
    "version": 3
   },
   "file_extension": ".py",
   "mimetype": "text/x-python",
   "name": "python",
   "nbconvert_exporter": "python",
   "pygments_lexer": "ipython3",
   "version": "3.9.12"
  }
 },
 "nbformat": 4,
 "nbformat_minor": 5
}
